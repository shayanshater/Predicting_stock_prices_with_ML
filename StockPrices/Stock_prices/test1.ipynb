{
 "cells": [
  {
   "cell_type": "code",
   "execution_count": 54,
   "metadata": {},
   "outputs": [],
   "source": [
    "#https://www.youtube.com/watch?v=SSu00IRRraY&list=PL2-dafEMk2A6QKz1mrk1uIGfHkC1zZ6UU&index=5\n",
    "import csv\n",
    "import numpy as np\n",
    "from sklearn.svm import SVR\n",
    "import matplotlib.pyplot as plt"
   ]
  },
  {
   "cell_type": "code",
   "execution_count": 1,
   "metadata": {},
   "outputs": [
    {
     "ename": "NameError",
     "evalue": "name 'csv' is not defined",
     "output_type": "error",
     "traceback": [
      "\u001b[1;31m---------------------------------------------------------------------------\u001b[0m",
      "\u001b[1;31mNameError\u001b[0m                                 Traceback (most recent call last)",
      "Cell \u001b[1;32mIn[1], line 54\u001b[0m\n\u001b[0;32m     49\u001b[0m     \u001b[38;5;28;01mreturn\u001b[39;00m svr_rbf\u001b[38;5;241m.\u001b[39mpredict(x), svr_lin\u001b[38;5;241m.\u001b[39mpredict(x), svr_poly\u001b[38;5;241m.\u001b[39mpredict(x)\n\u001b[0;32m     53\u001b[0m predicton_dates \u001b[38;5;241m=\u001b[39m [[x] \u001b[38;5;28;01mfor\u001b[39;00m x \u001b[38;5;129;01min\u001b[39;00m \u001b[38;5;28mrange\u001b[39m(\u001b[38;5;241m31\u001b[39m,\u001b[38;5;241m36\u001b[39m)]\n\u001b[1;32m---> 54\u001b[0m \u001b[43mget_data\u001b[49m\u001b[43m(\u001b[49m\u001b[38;5;124;43m'\u001b[39;49m\u001b[38;5;124;43mApple_30day.csv\u001b[39;49m\u001b[38;5;124;43m'\u001b[39;49m\u001b[43m)\u001b[49m\n\u001b[0;32m     55\u001b[0m my_prediction_rbf, my_prediction_lin, my_prediction_poly \u001b[38;5;241m=\u001b[39m predict_prices(dates, prices,predicton_dates)\n",
      "Cell \u001b[1;32mIn[1], line 9\u001b[0m, in \u001b[0;36mget_data\u001b[1;34m(filename)\u001b[0m\n\u001b[0;32m      7\u001b[0m \u001b[38;5;28;01mdef\u001b[39;00m \u001b[38;5;21mget_data\u001b[39m(filename):\n\u001b[0;32m      8\u001b[0m     \u001b[38;5;28;01mwith\u001b[39;00m \u001b[38;5;28mopen\u001b[39m(filename,\u001b[38;5;124m'\u001b[39m\u001b[38;5;124mr\u001b[39m\u001b[38;5;124m'\u001b[39m) \u001b[38;5;28;01mas\u001b[39;00m csvfile:\n\u001b[1;32m----> 9\u001b[0m         csvFileReader \u001b[38;5;241m=\u001b[39m \u001b[43mcsv\u001b[49m\u001b[38;5;241m.\u001b[39mreader(csvfile)\n\u001b[0;32m     10\u001b[0m         \u001b[38;5;28mnext\u001b[39m(csvFileReader)\n\u001b[0;32m     11\u001b[0m         \u001b[38;5;28;01mfor\u001b[39;00m row \u001b[38;5;129;01min\u001b[39;00m csvfile:\n",
      "\u001b[1;31mNameError\u001b[0m: name 'csv' is not defined"
     ]
    }
   ],
   "source": [
    "dates= []\n",
    "prices = []\n",
    "dates_int = []\n",
    "\n",
    "\n",
    "\n",
    "def get_data(filename):\n",
    "    with open(filename,'r') as csvfile:\n",
    "        csvFileReader = csv.reader(csvfile)\n",
    "        next(csvFileReader)\n",
    "        for row in csvfile:\n",
    "            dates.append(int (row.split(',')[0].split('/')[1]))     # check for dates\n",
    "            prices.append(float(row.split(',')[3].replace('$',''))) #check for correct open price collumn\n",
    "    return\n",
    "\n",
    "\n",
    "def predict_prices(dates,prices,x):\n",
    "    dates = np.reshape(dates,(len(dates),1))\n",
    "    global dates_int\n",
    "    dates_int = [i for i in range(len(dates))]\n",
    "    dates_int = np.reshape(dates_int,(len(dates_int),1))\n",
    "    \n",
    "    \n",
    "    \n",
    "    \n",
    "    svr_lin = SVR(kernel='linear', C=1e3)\n",
    "    svr_poly = SVR(kernel='poly', C=1e3, degree=3)\n",
    "    svr_rbf = SVR(kernel='rbf', C=1e3, gamma=.1)\n",
    "    svr_lin.fit(dates,prices)\n",
    "    svr_poly.fit(dates,prices)\n",
    "    svr_rbf.fit(dates,prices)\n",
    "    \n",
    "    plt.scatter(dates, prices, color='black', label='Data') \n",
    "    \n",
    "    ##updated for prediction\n",
    "    plt.scatter(x,svr_rbf.predict(x), color='orange',label='my_prediction')\n",
    "    \n",
    "    \n",
    "    plt.plot(dates, svr_rbf.predict(dates), color='red', label='RBF model')\n",
    "    plt.plot(dates, svr_lin.predict(dates), color='green', label='Linear model')\n",
    "    plt.plot(dates, svr_poly.predict(dates), color='blue', label='polynomial model')\n",
    "    \n",
    "    plt.xlabel('Date')\n",
    "    plt.ylabel('Price')\n",
    "    plt.title('Support Vector Regression')\n",
    "    plt.legend()\n",
    "    plt.show()\n",
    "    \n",
    "    return svr_rbf.predict(x), svr_lin.predict(x), svr_poly.predict(x)\n",
    "\n",
    "\n",
    "\n",
    "predicton_dates = [[x] for x in range(31,36)]\n",
    "get_data('Apple_30day.csv')\n",
    "my_prediction_rbf, my_prediction_lin, my_prediction_poly = predict_prices(dates, prices,predicton_dates)\n"
   ]
  },
  {
   "cell_type": "markdown",
   "metadata": {},
   "source": [
    "This only works for sorted days in a month. month data has to be from 1-31. The dates cant start from middle of the month. will need to implement a feature adapt to middle of the month."
   ]
  }
 ],
 "metadata": {
  "kernelspec": {
   "display_name": ".venv",
   "language": "python",
   "name": "python3"
  },
  "language_info": {
   "codemirror_mode": {
    "name": "ipython",
    "version": 3
   },
   "file_extension": ".py",
   "mimetype": "text/x-python",
   "name": "python",
   "nbconvert_exporter": "python",
   "pygments_lexer": "ipython3",
   "version": "3.13.0"
  }
 },
 "nbformat": 4,
 "nbformat_minor": 2
}
